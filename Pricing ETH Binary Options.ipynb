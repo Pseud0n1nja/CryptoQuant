{
 "cells": [
  {
   "cell_type": "code",
   "execution_count": 1,
   "metadata": {},
   "outputs": [],
   "source": [
    "import pandas as pd\n",
    "import numpy as np\n",
    "from scipy.stats import norm\n",
    "from pycoingecko import CoinGeckoAPI\n",
    "cg = CoinGeckoAPI()\n",
    "import datetime as dt"
   ]
  },
  {
   "cell_type": "code",
   "execution_count": 2,
   "metadata": {},
   "outputs": [],
   "source": [
    "pd.set_option('display.float_format', lambda x: '%.4f' % x) ## change float at the macro level"
   ]
  },
  {
   "cell_type": "code",
   "execution_count": 3,
   "metadata": {},
   "outputs": [],
   "source": [
    "def Binary_BS (spot, strike, T, sigma, rf = 0, Q = 1):\n",
    "    \n",
    "    \"\"\"\"\"\"\"\"\"\n",
    "    Adjusted Black Scholes model for pricing European binary options where the payoff equals 1.\n",
    "    \n",
    "    \n",
    "    rf - risk free rate;\n",
    "    spot - current spot price of the target asset;\n",
    "    strike - option strike price;\n",
    "    T - time, measured in years. For instance 1 month would be 1/12;\n",
    "    sigma - expected annual volatility. For instance, 100% annual volatility would mean sigma in our model equals 1;\n",
    "    Q - binary option payoff\n",
    "    \n",
    "    binary_call = Q * exp(-rfT)*N(d2)\n",
    "    binary_put = Q*exp(-rfT)*N(-d2)\n",
    "\n",
    "    \"\"\"\"\"\"\"\"\"\n",
    "    \n",
    "    d1 = (np.log(spot/strike) + T * (rf + (sigma**2)/2)) / (sigma*np.sqrt(T))\n",
    "    d2 = d1 - sigma * np.sqrt(T)\n",
    "    neg_d1 = -d1\n",
    "    neg_d2 = -d2\n",
    "    \n",
    "    N_d1 = norm.cdf(d1)\n",
    "    N_d2 = norm.cdf(d2)\n",
    "    N_neg_d1 = norm.cdf(neg_d1)\n",
    "    N_neg_d2 = norm.cdf(neg_d2)\n",
    "    \n",
    "    exp1 = np.exp(-rf*T)    \n",
    "    \n",
    "    call_price = Q * exp1 * N_d2\n",
    "    put_price = Q * exp1 * N_neg_d2 \n",
    "    \n",
    "    data = pd.DataFrame(data = [call_price, put_price], columns = ['Price'], index = ['Call', 'Put'])\n",
    "\n",
    "    return data"
   ]
  },
  {
   "cell_type": "code",
   "execution_count": 4,
   "metadata": {},
   "outputs": [],
   "source": [
    "def Binary_Binomial (spot, strike, T, sigma, N, rf = 0, Q = 1, div_yield = 0):\n",
    "    \n",
    "    \"\"\"\"\"\"\"\"\"\n",
    "    Using Binomial model to price European binary options where the payoff equals 1. \n",
    "    \n",
    "    rf - risk free rate;\n",
    "    spot - current spot price of the target asset;\n",
    "    strike - option strike price;\n",
    "    T - time, measured in years. For instance 1 month would be 1/12;\n",
    "    sigma - expected annual volatility. For instance, 100% annual volatility would mean sigma in our model equals 1.\n",
    "    N - number of binomial steps\n",
    "    Q - binary option payoff;\n",
    "    \n",
    "    The factor by which the price raises: u = exp (std * sqrt(delta t));\n",
    "    The factor by which the price falls: d = 1/u;\n",
    "    Probability of price going up: pu = [exp(delta t * (rf - k)) - d] / [u - d];\n",
    "    Probability of pirce going down: pd = 1 - pu;\n",
    "\n",
    "    Stock price at the end of the period according to binomial model is:\n",
    "    S0 * u ^ (# of steps up) * d ^ (# of steps down)\n",
    "    \"\"\"\"\"\"\"\"\"\n",
    "    \n",
    "    delta_T = T/N\n",
    "    \n",
    "    NR = np.exp((rf - div_yield) * delta_T)\n",
    "    GR = np.exp(rf*delta_T)\n",
    "    \n",
    "    u = np.exp(sigma * np.sqrt(delta_T))\n",
    "    d = 1/u\n",
    "\n",
    "    p_up = (NR - d) / (u - d) \n",
    "    p_down = 1 - p_up\n",
    "\n",
    "    discount = np.exp(-rf*T)    \n",
    "    \n",
    "    df = pd.DataFrame(data = np.arange(0, N+1), columns = [\"Number of down steps\"])\n",
    "    df['S(t)'] = spot * u ** (N - df['Number of down steps']) * d ** (df[\"Number of down steps\"])\n",
    "\n",
    "    call_price = []\n",
    "    put_price = []\n",
    "    for i in range(len(df)):\n",
    "        if (float(df['S(t)'].iloc[i:i+1] - strike))>0: # if spot price larger than strike price call price = payoff; put price = 0\n",
    "            call_price.append(Q)\n",
    "            put_price.append(0) \n",
    "        else: # if strike price larger than spot price call price = 0; put price = payoff\n",
    "            call_price.append(0)\n",
    "            put_price.append(Q)\n",
    "\n",
    "    df[\"Call (t)\"] = call_price\n",
    "    df['Put (t)'] =  put_price\n",
    "\n",
    "    df[\"Probability for the nod\"] = p_up ** (N - df[\"Number of down steps\"]) * p_down ** (df[\"Number of down steps\"])\n",
    "\n",
    "    df[\"Number\"] = N\n",
    "\n",
    "    df[\"Number Chosen\"] = df[\"Number\"] - df[\"Number of down steps\"]\n",
    "\n",
    "    paths = []\n",
    "    for i in range(len(df)):\n",
    "        paths.append ((np.math.factorial(float(df[\"Number\"].iloc[i:i+1]))) / (np.math.factorial(float(df[\"Number Chosen\"].iloc[i:i+1])) * np.math.factorial(float(df[\"Number\"].iloc[i:i+1]) - float(df[\"Number Chosen\"].iloc[i:i+1]))))\n",
    "\n",
    "    df[\"Number of paths\"] = paths\n",
    "\n",
    "    df['Pr of S{t}'] = df[\"Probability for the nod\"] * df[\"Number of paths\"]\n",
    "\n",
    "    df[\"Call (t) * Pr\"] = df[\"Call (t)\"] * df[\"Pr of S{t}\"]\n",
    "    df[\"Put (t) * Pr\"] = df[\"Put (t)\"] * df[\"Pr of S{t}\"]\n",
    "    \n",
    "    data = pd.DataFrame(data = [df[\"Call (t) * Pr\"].sum() * discount, df[\"Put (t) * Pr\"].sum() * discount], columns = ['Price'], index = ['Call', 'Put'])\n",
    "    \n",
    "    return data, df"
   ]
  },
  {
   "cell_type": "code",
   "execution_count": 65,
   "metadata": {},
   "outputs": [
    {
     "data": {
      "text/html": [
       "<div>\n",
       "<style scoped>\n",
       "    .dataframe tbody tr th:only-of-type {\n",
       "        vertical-align: middle;\n",
       "    }\n",
       "\n",
       "    .dataframe tbody tr th {\n",
       "        vertical-align: top;\n",
       "    }\n",
       "\n",
       "    .dataframe thead th {\n",
       "        text-align: right;\n",
       "    }\n",
       "</style>\n",
       "<table border=\"1\" class=\"dataframe\">\n",
       "  <thead>\n",
       "    <tr style=\"text-align: right;\">\n",
       "      <th></th>\n",
       "      <th>Input</th>\n",
       "    </tr>\n",
       "  </thead>\n",
       "  <tbody>\n",
       "    <tr>\n",
       "      <th>Risk-free rate</th>\n",
       "      <td>0.0000</td>\n",
       "    </tr>\n",
       "    <tr>\n",
       "      <th>Spot</th>\n",
       "      <td>5000.0000</td>\n",
       "    </tr>\n",
       "    <tr>\n",
       "      <th>Strike</th>\n",
       "      <td>5200.0000</td>\n",
       "    </tr>\n",
       "    <tr>\n",
       "      <th>T</th>\n",
       "      <td>0.0082</td>\n",
       "    </tr>\n",
       "    <tr>\n",
       "      <th>Volatility</th>\n",
       "      <td>0.8000</td>\n",
       "    </tr>\n",
       "    <tr>\n",
       "      <th>Payoff</th>\n",
       "      <td>1.0000</td>\n",
       "    </tr>\n",
       "  </tbody>\n",
       "</table>\n",
       "</div>"
      ],
      "text/plain": [
       "                   Input\n",
       "Risk-free rate    0.0000\n",
       "Spot           5000.0000\n",
       "Strike         5200.0000\n",
       "T                 0.0082\n",
       "Volatility        0.8000\n",
       "Payoff            1.0000"
      ]
     },
     "metadata": {},
     "output_type": "display_data"
    }
   ],
   "source": [
    "rf, spot, strike, T, sigma, Q = 0, 5000, 5200, 3/365, 0.8, 1\n",
    "\n",
    "input_frame = pd.DataFrame(data = [rf, spot, strike, T, sigma, Q], columns=['Input'], \n",
    "                   index=['Risk-free rate', 'Spot', 'Strike', 'T', 'Volatility', 'Payoff'])\n",
    "display(input_frame)"
   ]
  },
  {
   "cell_type": "code",
   "execution_count": 64,
   "metadata": {},
   "outputs": [
    {
     "data": {
      "text/html": [
       "<div>\n",
       "<style scoped>\n",
       "    .dataframe tbody tr th:only-of-type {\n",
       "        vertical-align: middle;\n",
       "    }\n",
       "\n",
       "    .dataframe tbody tr th {\n",
       "        vertical-align: top;\n",
       "    }\n",
       "\n",
       "    .dataframe thead th {\n",
       "        text-align: right;\n",
       "    }\n",
       "</style>\n",
       "<table border=\"1\" class=\"dataframe\">\n",
       "  <thead>\n",
       "    <tr style=\"text-align: right;\">\n",
       "      <th></th>\n",
       "      <th>Price</th>\n",
       "    </tr>\n",
       "  </thead>\n",
       "  <tbody>\n",
       "    <tr>\n",
       "      <th>Call</th>\n",
       "      <td>0.1873</td>\n",
       "    </tr>\n",
       "    <tr>\n",
       "      <th>Put</th>\n",
       "      <td>0.8127</td>\n",
       "    </tr>\n",
       "  </tbody>\n",
       "</table>\n",
       "</div>"
      ],
      "text/plain": [
       "      Price\n",
       "Call 0.1873\n",
       "Put  0.8127"
      ]
     },
     "execution_count": 64,
     "metadata": {},
     "output_type": "execute_result"
    }
   ],
   "source": [
    "Binary_BS(spot, strike, T, sigma)"
   ]
  },
  {
   "cell_type": "code",
   "execution_count": 7,
   "metadata": {},
   "outputs": [
    {
     "data": {
      "text/html": [
       "<div>\n",
       "<style scoped>\n",
       "    .dataframe tbody tr th:only-of-type {\n",
       "        vertical-align: middle;\n",
       "    }\n",
       "\n",
       "    .dataframe tbody tr th {\n",
       "        vertical-align: top;\n",
       "    }\n",
       "\n",
       "    .dataframe thead th {\n",
       "        text-align: right;\n",
       "    }\n",
       "</style>\n",
       "<table border=\"1\" class=\"dataframe\">\n",
       "  <thead>\n",
       "    <tr style=\"text-align: right;\">\n",
       "      <th></th>\n",
       "      <th>Price</th>\n",
       "    </tr>\n",
       "  </thead>\n",
       "  <tbody>\n",
       "    <tr>\n",
       "      <th>Call</th>\n",
       "      <td>0.0508</td>\n",
       "    </tr>\n",
       "    <tr>\n",
       "      <th>Put</th>\n",
       "      <td>0.9492</td>\n",
       "    </tr>\n",
       "  </tbody>\n",
       "</table>\n",
       "</div>"
      ],
      "text/plain": [
       "      Price\n",
       "Call 0.0508\n",
       "Put  0.9492"
      ]
     },
     "execution_count": 7,
     "metadata": {},
     "output_type": "execute_result"
    }
   ],
   "source": [
    "Binary_Binomial(spot, strike, T, sigma, N = 500)[0]"
   ]
  },
  {
   "cell_type": "code",
   "execution_count": 10,
   "metadata": {},
   "outputs": [],
   "source": [
    "sigmas = np.arange(0.5, 2, 0.05)\n",
    "\n",
    "bs_ = []\n",
    "binomial = []\n",
    "for i in range(len(sigmas)):\n",
    "    bs_.append(Binary_BS(spot, strike, T, sigmas[i])['Price']['Call'])\n",
    "    binomial.append(Binary_Binomial(spot, strike, T, sigmas[i], N = 500)[0]['Price']['Call'])\n",
    "    \n",
    "df1 = pd.DataFrame(data = [sigmas, bs_, binomial], index = ['Volatility', 'BS', 'Binomial']).T\n",
    "df1 = df1.set_index('Volatility')"
   ]
  },
  {
   "cell_type": "code",
   "execution_count": 11,
   "metadata": {},
   "outputs": [],
   "source": [
    "# The more we increase N in the binomial model the closer the price is to the BS model"
   ]
  },
  {
   "cell_type": "code",
   "execution_count": 12,
   "metadata": {},
   "outputs": [
    {
     "data": {
      "text/plain": [
       "<AxesSubplot:xlabel='Volatility'>"
      ]
     },
     "execution_count": 12,
     "metadata": {},
     "output_type": "execute_result"
    },
    {
     "data": {
      "image/png": "[encoded data removed]",
      "text/plain": [
       "<Figure size 432x288 with 1 Axes>"
      ]
     },
     "metadata": {
      "needs_background": "light"
     },
     "output_type": "display_data"
    }
   ],
   "source": [
    "df1.plot()"
   ]
  },
  {
   "cell_type": "code",
   "execution_count": 13,
   "metadata": {},
   "outputs": [],
   "source": [
    "maturity = np.arange(1, 360, 5) / 360\n",
    "\n",
    "bs_ = []\n",
    "binomial = []\n",
    "for i in range(len(maturity)):\n",
    "    bs_.append(Binary_BS(spot, strike, maturity[i], sigma)['Price']['Call'])\n",
    "    binomial.append(Binary_Binomial(spot, strike, maturity[i], sigma, N = 500)[0]['Price']['Call'])\n",
    "    \n",
    "df2 = pd.DataFrame(data = [maturity, bs_, binomial], index = ['Maturity', 'BS', 'Binomial']).T\n",
    "df2 = df2.set_index('Maturity')"
   ]
  },
  {
   "cell_type": "code",
   "execution_count": 14,
   "metadata": {},
   "outputs": [
    {
     "data": {
      "text/plain": [
       "<AxesSubplot:xlabel='Maturity'>"
      ]
     },
     "execution_count": 14,
     "metadata": {},
     "output_type": "execute_result"
    },
    {
     "data": {
      "image/png": "[encoded data removed]",
      "text/plain": [
       "<Figure size 432x288 with 1 Axes>"
      ]
     },
     "metadata": {
      "needs_background": "light"
     },
     "output_type": "display_data"
    }
   ],
   "source": [
    "df2.plot()"
   ]
  },
  {
   "cell_type": "code",
   "execution_count": 15,
   "metadata": {},
   "outputs": [],
   "source": [
    "spot = np.arange(50, 200, 5)\n",
    "\n",
    "bs_ = []\n",
    "binomial = []\n",
    "for i in range(len(spot)):\n",
    "    bs_.append(Binary_BS(spot[i], strike, T, sigma)['Price']['Call'])\n",
    "    binomial.append(Binary_Binomial(spot[i], strike, T, sigma, N = 500)[0]['Price']['Call'])\n",
    "    \n",
    "df3 = pd.DataFrame(data = [spot, bs_, binomial], index = ['Spot', 'BS', 'Binomial']).T\n",
    "df3 = df3.set_index('Spot')"
   ]
  },
  {
   "cell_type": "code",
   "execution_count": 16,
   "metadata": {},
   "outputs": [
    {
     "data": {
      "text/plain": [
       "<AxesSubplot:xlabel='Spot'>"
      ]
     },
     "execution_count": 16,
     "metadata": {},
     "output_type": "execute_result"
    },
    {
     "data": {
      "image/png": "[encoded data removed]",
      "text/plain": [
       "<Figure size 432x288 with 1 Axes>"
      ]
     },
     "metadata": {
      "needs_background": "light"
     },
     "output_type": "display_data"
    }
   ],
   "source": [
    "df3.plot()"
   ]
  },
  {
   "cell_type": "code",
   "execution_count": null,
   "metadata": {},
   "outputs": [],
   "source": []
  },
  {
   "cell_type": "markdown",
   "metadata": {},
   "source": [
    "# Pricing ETH Binary Options"
   ]
  },
  {
   "cell_type": "code",
   "execution_count": 17,
   "metadata": {},
   "outputs": [],
   "source": [
    "def get_data_for_the_past_x_days(coin_name, day_num, currency = 'usd', data_type = \"prices\"):\n",
    "    \"\"\"\"\"\"\"\"\"\n",
    "    get_data_for_the_past_x_days(coin_name='bitcoin', day_num=120)\n",
    "    data_type could be market_caps or total volumes \n",
    "    day_num should be higher than 90 to get daily data, if lower can only get hourly data\n",
    "    \"\"\"\"\"\"\"\"\"\n",
    "    data = cg.get_coin_market_chart_by_id(id = coin_name, vs_currency = currency, days = day_num)\n",
    "    data = data[data_type]\n",
    "    date = []\n",
    "    price = []\n",
    "    for i in range(len(data)):\n",
    "        date.append(dt.datetime.fromtimestamp((data[i][0])/1000))\n",
    "        price.append(data[i][1])\n",
    "    \n",
    "    df = pd.DataFrame(data = price, index = date, columns=[coin_name])\n",
    "    \n",
    "    return df"
   ]
  },
  {
   "cell_type": "markdown",
   "metadata": {},
   "source": [
    "## Below volatility annualization is only for hourly data. Don't use if working with daily data!!! "
   ]
  },
  {
   "cell_type": "code",
   "execution_count": 116,
   "metadata": {},
   "outputs": [],
   "source": [
    "def sigma_spot(token, days):\n",
    "    \n",
    "    if days>90:\n",
    "        return 'Error. Please input less than 90 days'\n",
    "    \n",
    "    else:\n",
    "        data = get_data_for_the_past_x_days(token, days)\n",
    "        returns = (np.log(data)-np.log(data.shift(1)))[1:]\n",
    "        sigma = (np.std(returns) * np.sqrt(24*365))[0]\n",
    "        \n",
    "    recent_price = data[-1:][token][0]\n",
    "    \n",
    "    return sigma, recent_price"
   ]
  },
  {
   "cell_type": "code",
   "execution_count": 117,
   "metadata": {},
   "outputs": [],
   "source": [
    "data = sigma_spot('ethereum', 90)"
   ]
  },
  {
   "cell_type": "code",
   "execution_count": 120,
   "metadata": {},
   "outputs": [],
   "source": [
    "sigma = data[0]\n",
    "spot = data[1]"
   ]
  },
  {
   "cell_type": "code",
   "execution_count": 121,
   "metadata": {},
   "outputs": [],
   "source": [
    "strike = 5000"
   ]
  },
  {
   "cell_type": "code",
   "execution_count": 122,
   "metadata": {},
   "outputs": [
    {
     "data": {
      "text/html": [
       "<div>\n",
       "<style scoped>\n",
       "    .dataframe tbody tr th:only-of-type {\n",
       "        vertical-align: middle;\n",
       "    }\n",
       "\n",
       "    .dataframe tbody tr th {\n",
       "        vertical-align: top;\n",
       "    }\n",
       "\n",
       "    .dataframe thead th {\n",
       "        text-align: right;\n",
       "    }\n",
       "</style>\n",
       "<table border=\"1\" class=\"dataframe\">\n",
       "  <thead>\n",
       "    <tr style=\"text-align: right;\">\n",
       "      <th></th>\n",
       "      <th>Input</th>\n",
       "    </tr>\n",
       "  </thead>\n",
       "  <tbody>\n",
       "    <tr>\n",
       "      <th>Risk-free rate</th>\n",
       "      <td>0.0000</td>\n",
       "    </tr>\n",
       "    <tr>\n",
       "      <th>Spot</th>\n",
       "      <td>4715.9527</td>\n",
       "    </tr>\n",
       "    <tr>\n",
       "      <th>Strike</th>\n",
       "      <td>5000.0000</td>\n",
       "    </tr>\n",
       "    <tr>\n",
       "      <th>T</th>\n",
       "      <td>0.0082</td>\n",
       "    </tr>\n",
       "    <tr>\n",
       "      <th>Volatility</th>\n",
       "      <td>0.8141</td>\n",
       "    </tr>\n",
       "    <tr>\n",
       "      <th>Payoff</th>\n",
       "      <td>1.0000</td>\n",
       "    </tr>\n",
       "  </tbody>\n",
       "</table>\n",
       "</div>"
      ],
      "text/plain": [
       "                   Input\n",
       "Risk-free rate    0.0000\n",
       "Spot           4715.9527\n",
       "Strike         5000.0000\n",
       "T                 0.0082\n",
       "Volatility        0.8141\n",
       "Payoff            1.0000"
      ]
     },
     "metadata": {},
     "output_type": "display_data"
    }
   ],
   "source": [
    "input_frame = pd.DataFrame(data = [rf, spot, strike, T, sigma, Q], columns=['Input'], \n",
    "                   index=['Risk-free rate', 'Spot', 'Strike', 'T', 'Volatility', 'Payoff'])\n",
    "display(input_frame)"
   ]
  },
  {
   "cell_type": "code",
   "execution_count": 123,
   "metadata": {},
   "outputs": [
    {
     "data": {
      "text/html": [
       "<div>\n",
       "<style scoped>\n",
       "    .dataframe tbody tr th:only-of-type {\n",
       "        vertical-align: middle;\n",
       "    }\n",
       "\n",
       "    .dataframe tbody tr th {\n",
       "        vertical-align: top;\n",
       "    }\n",
       "\n",
       "    .dataframe thead th {\n",
       "        text-align: right;\n",
       "    }\n",
       "</style>\n",
       "<table border=\"1\" class=\"dataframe\">\n",
       "  <thead>\n",
       "    <tr style=\"text-align: right;\">\n",
       "      <th></th>\n",
       "      <th>Price</th>\n",
       "    </tr>\n",
       "  </thead>\n",
       "  <tbody>\n",
       "    <tr>\n",
       "      <th>Call</th>\n",
       "      <td>0.2035</td>\n",
       "    </tr>\n",
       "    <tr>\n",
       "      <th>Put</th>\n",
       "      <td>0.7965</td>\n",
       "    </tr>\n",
       "  </tbody>\n",
       "</table>\n",
       "</div>"
      ],
      "text/plain": [
       "      Price\n",
       "Call 0.2035\n",
       "Put  0.7965"
      ]
     },
     "execution_count": 123,
     "metadata": {},
     "output_type": "execute_result"
    }
   ],
   "source": [
    "Binary_BS(spot, strike, T, sigma)"
   ]
  },
  {
   "cell_type": "code",
   "execution_count": 124,
   "metadata": {},
   "outputs": [
    {
     "data": {
      "text/html": [
       "<div>\n",
       "<style scoped>\n",
       "    .dataframe tbody tr th:only-of-type {\n",
       "        vertical-align: middle;\n",
       "    }\n",
       "\n",
       "    .dataframe tbody tr th {\n",
       "        vertical-align: top;\n",
       "    }\n",
       "\n",
       "    .dataframe thead th {\n",
       "        text-align: right;\n",
       "    }\n",
       "</style>\n",
       "<table border=\"1\" class=\"dataframe\">\n",
       "  <thead>\n",
       "    <tr style=\"text-align: right;\">\n",
       "      <th></th>\n",
       "      <th>Price</th>\n",
       "    </tr>\n",
       "  </thead>\n",
       "  <tbody>\n",
       "    <tr>\n",
       "      <th>Call</th>\n",
       "      <td>0.2127</td>\n",
       "    </tr>\n",
       "    <tr>\n",
       "      <th>Put</th>\n",
       "      <td>0.7873</td>\n",
       "    </tr>\n",
       "  </tbody>\n",
       "</table>\n",
       "</div>"
      ],
      "text/plain": [
       "      Price\n",
       "Call 0.2127\n",
       "Put  0.7873"
      ]
     },
     "execution_count": 124,
     "metadata": {},
     "output_type": "execute_result"
    }
   ],
   "source": [
    "Binary_Binomial(spot, strike, T, sigma, N = 500)[0]"
   ]
  },
  {
   "cell_type": "code",
   "execution_count": null,
   "metadata": {},
   "outputs": [],
   "source": []
  }
 ],
 "metadata": {
  "kernelspec": {
   "display_name": "Python 3",
   "language": "python",
   "name": "python3"
  },
  "language_info": {
   "codemirror_mode": {
    "name": "ipython",
    "version": 3
   },
   "file_extension": ".py",
   "mimetype": "text/x-python",
   "name": "python",
   "nbconvert_exporter": "python",
   "pygments_lexer": "ipython3",
   "version": "3.8.5"
  }
 },
 "nbformat": 4,
 "nbformat_minor": 4
}
